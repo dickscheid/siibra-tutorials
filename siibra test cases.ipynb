{
 "cells": [
  {
   "cell_type": "markdown",
   "metadata": {},
   "source": [
    "This is a collection of test cases for siibra which turned out to fail at some point in time and should be checked regularly both in python, api and explorer."
   ]
  },
  {
   "cell_type": "code",
   "execution_count": null,
   "metadata": {},
   "outputs": [],
   "source": [
    "import siibra\n",
    "atlas = siibra.atlases['human']"
   ]
  },
  {
   "cell_type": "code",
   "execution_count": null,
   "metadata": {},
   "outputs": [],
   "source": [
    "from nilearn import plotting"
   ]
  },
  {
   "cell_type": "markdown",
   "metadata": {},
   "source": [
    "### Availability of probability maps"
   ]
  },
  {
   "cell_type": "code",
   "execution_count": null,
   "metadata": {},
   "outputs": [],
   "source": [
    "# want a probability map of fibre bundles.\n",
    "atlas = siibra.atlases['human']\n",
    "region = atlas.get_region('right inferior longitudinal fasciculus',parcellation=\"long bundle\")\n",
    "pmap = region.get_regional_map(space=\"mni152\",maptype=\"continuous\")\n",
    "assert(isinstance(pmap,siibra.volumes.volume.NiftiVolume))\n",
    "\n",
    "# display it\n",
    "plotting.plot_stat_map(pmap.fetch())\n",
    "\n",
    "# right hemsiphere map must have larger x coordinate than MNI152 center\n",
    "mni_center = siibra.BoundingBox.from_image(\n",
    "    atlas.get_template('mni152').fetch(), \"mni152\").center\n",
    "map_center = siibra.BoundingBox.from_image(\n",
    "    pmap.fetch(),space=\"mni152\").center\n",
    "assert(mni_center[0]<map_center[0])"
   ]
  },
  {
   "cell_type": "code",
   "execution_count": null,
   "metadata": {},
   "outputs": [],
   "source": [
    "# Want a probability map of the amygdala\n",
    "atlas = siibra.atlases['human']\n",
    "lb_r = atlas.get_region('lb right')\n",
    "pmap = lb_r.get_regional_map('mni152',maptype='continuous')\n",
    "plotting.plot_stat_map(pmap.fetch())"
   ]
  },
  {
   "cell_type": "markdown",
   "metadata": {},
   "source": [
    "### Availability of data features"
   ]
  },
  {
   "cell_type": "code",
   "execution_count": null,
   "metadata": {},
   "outputs": [],
   "source": [
    "siibra.set_ebrains_token(input('Please provide EBRAINS auth token:'))"
   ]
  },
  {
   "cell_type": "code",
   "execution_count": null,
   "metadata": {},
   "outputs": [],
   "source": [
    "# we want receptor densities in V1, the same ones no matter wether left or right\n",
    "atlas = siibra.atlases['human']\n",
    "found = []\n",
    "for spec in ['v1','v1 left','v1 right']:\n",
    "    features = siibra.get_features(\n",
    "        atlas.get_region(spec), 'receptor')\n",
    "    assert(len(features)>0)\n",
    "    r, = features\n",
    "    r.plot()\n",
    "    found.append(r)\n",
    "assert(len(set(found))==1)\n",
    "pass"
   ]
  },
  {
   "cell_type": "code",
   "execution_count": null,
   "metadata": {},
   "outputs": [],
   "source": []
  }
 ],
 "metadata": {
  "kernelspec": {
   "display_name": "Python 3",
   "language": "python",
   "name": "python3"
  },
  "language_info": {
   "codemirror_mode": {
    "name": "ipython",
    "version": 3
   },
   "file_extension": ".py",
   "mimetype": "text/x-python",
   "name": "python",
   "nbconvert_exporter": "python",
   "pygments_lexer": "ipython3",
   "version": "3.9.1"
  }
 },
 "nbformat": 4,
 "nbformat_minor": 4
}
