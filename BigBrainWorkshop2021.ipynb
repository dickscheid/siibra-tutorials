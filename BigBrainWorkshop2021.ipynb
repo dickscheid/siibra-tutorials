{
 "cells": [
  {
   "cell_type": "code",
   "execution_count": null,
   "metadata": {},
   "outputs": [],
   "source": [
    "import siibra\n",
    "from nilearn import plotting, image\n",
    "import requests\n",
    "import matplotlib.pyplot as plt\n",
    "%matplotlib notebook"
   ]
  },
  {
   "cell_type": "code",
   "execution_count": null,
   "metadata": {},
   "outputs": [],
   "source": [
    "assert(siibra.__version__=='0.2a5')\n",
    "atlas = siibra.atlases['human']"
   ]
  },
  {
   "cell_type": "markdown",
   "metadata": {},
   "source": [
    "# Accessing locations of brain regions in BigBrain space"
   ]
  },
  {
   "cell_type": "markdown",
   "metadata": {},
   "source": [
    "## Finding regions which are mapped in BigBrain\n",
    "\n",
    "Some regions are mapped in BigBrain space. "
   ]
  },
  {
   "cell_type": "code",
   "execution_count": null,
   "metadata": {},
   "outputs": [],
   "source": [
    "bigbrain = atlas.get_template('bigbrain').fetch()\n",
    "cytomaps = atlas.get_map(space=\"bigbrain\").fetch()\n",
    "plotting.view_img(cytomaps,bg_img=bigbrain,cmap='jet',symmetric_cmap=False)"
   ]
  },
  {
   "cell_type": "markdown",
   "metadata": {},
   "source": [
    "However, in the MNI space, we have of course access to many more existing maps, also in the form of probabilistic maps."
   ]
  },
  {
   "cell_type": "code",
   "execution_count": null,
   "metadata": {},
   "outputs": [],
   "source": [
    "pmaps = atlas.get_map(space=\"mni152\",maptype=\"continuous\")\n",
    "len(pmaps)"
   ]
  },
  {
   "cell_type": "markdown",
   "metadata": {},
   "source": [
    "Let's just fetch one of them."
   ]
  },
  {
   "cell_type": "code",
   "execution_count": null,
   "metadata": {},
   "outputs": [],
   "source": [
    "img = pmaps.fetch(mapindex=94)\n",
    "plotting.plot_stat_map(img)"
   ]
  },
  {
   "cell_type": "markdown",
   "metadata": {},
   "source": [
    "Siibra keeps track of indices and regions, so we can easily determin which region this is:"
   ]
  },
  {
   "cell_type": "code",
   "execution_count": null,
   "metadata": {},
   "outputs": [],
   "source": [
    "pmaps.decode_label(mapindex=94)"
   ]
  },
  {
   "cell_type": "markdown",
   "metadata": {},
   "source": [
    "## Projecting probabilistic maps from MNI space to BigBrain\n",
    "\n",
    "If a region is not mapped in the target space, `siibra` will try to warp bounding boxes across spaces, if needed. If desired, we can compute the bounding box by thresholding probability maps. This is preferred for more control of the mask creation."
   ]
  },
  {
   "cell_type": "code",
   "execution_count": null,
   "metadata": {},
   "outputs": [],
   "source": [
    "region = atlas.get_region(\"hoc5 left\")\n",
    "voi = region.get_bounding_box(\"bigbrain\", threshold_continuous=0.8)"
   ]
  },
  {
   "cell_type": "markdown",
   "metadata": {},
   "source": [
    "### Retrieve BigBrain image data and maps for the region of interest\n",
    "\n",
    "We can apply the bounding box defined above for fetching image data from BigBrain space."
   ]
  },
  {
   "cell_type": "code",
   "execution_count": null,
   "metadata": {},
   "outputs": [],
   "source": [
    "# Get access to the template definition of BigBrain\n",
    "bigbrain = atlas.get_template(\"bigbrain\")\n",
    "\n",
    "# Fetch actual BigBrain data, but only inside the volume of interest. \n",
    "# Try full resolution (siibra complains if this leads to prohibitively large data)\n",
    "siibra.set_feasible_download_size(0.1)\n",
    "img = bigbrain.fetch(voi=voi, resolution_mm=-1)"
   ]
  },
  {
   "cell_type": "markdown",
   "metadata": {},
   "source": [
    "We can now reuse the same bounding box to access the layer segmentations of Konrad Wagstyl."
   ]
  },
  {
   "cell_type": "code",
   "execution_count": null,
   "metadata": {},
   "outputs": [],
   "source": [
    "layermap = atlas.get_map(parcellation='layers', space='bigbrain')\n",
    "labels = layermap.fetch(voi=voi, resolution_mm=-1)"
   ]
  },
  {
   "cell_type": "markdown",
   "metadata": {},
   "source": [
    "The returned data is a spatial image object, defined in the physical coordinate system. We can therefore plot image data and maps, despite possibly different image resolution. "
   ]
  },
  {
   "cell_type": "code",
   "execution_count": null,
   "metadata": {},
   "outputs": [],
   "source": [
    "plotting.view_img(labels, bg_img=img, opacity=.1, symmetric_cmap=False)"
   ]
  },
  {
   "cell_type": "markdown",
   "metadata": {},
   "source": [
    "Since we work in physical coordinates, we can fetch the whole brain template at a lower resolution and simply plot the full-resolution volume of interest on top of it."
   ]
  },
  {
   "cell_type": "code",
   "execution_count": null,
   "metadata": {},
   "outputs": [],
   "source": [
    "# where in the whole brain is this? Show the chunk on top of the lower-resolution whole brain template.\n",
    "template = bigbrain.fetch(resolution_mm=-1)\n",
    "plotting.plot_roi(labels, bg_img=template, annotate=True, draw_cross=True)#, cmap='gray' )"
   ]
  },
  {
   "cell_type": "markdown",
   "metadata": {},
   "source": [
    "### Sample gray values around specific regions"
   ]
  },
  {
   "cell_type": "markdown",
   "metadata": {},
   "source": [
    "We can also extract peaks of high probability from probability maps in MNI space, warp them to BigBrain space, and extract their surrounding in the BigBrain space."
   ]
  },
  {
   "cell_type": "code",
   "execution_count": null,
   "metadata": {},
   "outputs": [],
   "source": [
    "# Peaks of v1 left in MNI space\n",
    "v1l = atlas.get_region('v1 left')\n",
    "peaks, pmap = v1l.find_peaks(\"mni152\")\n",
    "view = plotting.plot_stat_map(pmap, cmap='viridis')\n",
    "view.add_markers([tuple(p) for p in peaks])"
   ]
  },
  {
   "cell_type": "code",
   "execution_count": null,
   "metadata": {},
   "outputs": [],
   "source": [
    "# greap a cube at the corresponding position in BigBrain space\n",
    "p = peaks[2].warp(\"bigbrain\")\n",
    "pvoi = p.get_enclosing_cube(width_mm=3)\n",
    "chunk = atlas.get_template('bigbrain').fetch(voi=pvoi, resolution_mm=-1)\n",
    "\n",
    "template = atlas.get_template('bigbrain').fetch()\n",
    "view = plotting.plot_anat(template, cut_coords=tuple(p))\n",
    "view.add_markers([tuple(p)])\n",
    "view.add_overlay(chunk, cmap='gray')"
   ]
  },
  {
   "cell_type": "code",
   "execution_count": null,
   "metadata": {},
   "outputs": [],
   "source": [
    "# get the layer masks for the extracted cube\n",
    "layers = atlas.get_map(parcellation='layers',space='bigbrain').fetch(voi=pvoi,resolution_mm=-1)\n",
    "plotting.view_img(layers, bg_img=chunk, opacity=0.1, symmetric_cmap=False)"
   ]
  },
  {
   "cell_type": "code",
   "execution_count": null,
   "metadata": {},
   "outputs": [],
   "source": [
    "import numpy as np\n",
    "\n",
    "# access the data array of the chunk\n",
    "A = chunk.get_fdata()\n",
    "\n",
    "# the maps might have a voxel space - resample the maps\n",
    "L = image.resample_to_img(layers,chunk).get_fdata()\n",
    "\n",
    "# extract histograms per layer\n",
    "binwidth = 20\n",
    "bins = range(0,255,binwidth)\n",
    "histograms = {}\n",
    "for layer in range(1,int(L.max())):\n",
    "    print(\"layer\",layer)\n",
    "    vals, edges = np.histogram(A[(L==layer) & (A<255)].ravel(), bins, normed=True)\n",
    "    histograms[layer] = vals"
   ]
  },
  {
   "cell_type": "code",
   "execution_count": null,
   "metadata": {},
   "outputs": [],
   "source": [
    "# plot the histograms\n",
    "fig, ax = plt.subplots()\n",
    "width=binwidth/8\n",
    "x = np.array(bins)[1:]\n",
    "for layer,values in histograms.items():\n",
    "    bars1 = ax.bar(x+(layer-4)*width, values, width, label=f'Layer {layer}')\n",
    "plt.xticks(x)\n",
    "plt.legend([f'Layer {i+1}' for i in range(7)])\n",
    "plt.grid(True)\n",
    "plt.show()"
   ]
  }
 ],
 "metadata": {
  "kernelspec": {
   "display_name": "Python 3",
   "language": "python",
   "name": "python3"
  },
  "language_info": {
   "codemirror_mode": {
    "name": "ipython",
    "version": 3
   },
   "file_extension": ".py",
   "mimetype": "text/x-python",
   "name": "python",
   "nbconvert_exporter": "python",
   "pygments_lexer": "ipython3",
   "version": "3.9.1"
  }
 },
 "nbformat": 4,
 "nbformat_minor": 4
}
