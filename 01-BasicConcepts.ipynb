{
 "cells": [
  {
   "cell_type": "markdown",
   "metadata": {},
   "source": [
    "# Understanding basic siibra concepts"
   ]
  },
  {
   "cell_type": "code",
   "execution_count": null,
   "metadata": {},
   "outputs": [],
   "source": [
    "import siibra\n",
    "from nilearn import plotting"
   ]
  },
  {
   "cell_type": "markdown",
   "metadata": {},
   "source": [
    "## Spaces, parcellations and regions\n",
    "\n",
    "At its core, `siibra` defines different atlases, maps, and reference spaces as semantic concepts. Predefined objects of these can be accessed via registries that provide easy access via autocompletion or keyword matching."
   ]
  },
  {
   "cell_type": "code",
   "execution_count": null,
   "metadata": {},
   "outputs": [],
   "source": [
    "print(\"Predefined atlases\",siibra.atlases)\n",
    "\n",
    "# fetch an object using explicit autocompletion\n",
    "atlas = siibra.atlases.MULTILEVEL_HUMAN_ATLAS \n",
    "\n",
    "# fetch via keyword matching - same result\n",
    "atlas = siibra.atlases['human']\n",
    "print(atlas)"
   ]
  },
  {
   "cell_type": "code",
   "execution_count": null,
   "metadata": {},
   "outputs": [],
   "source": [
    "print(\"Predefined spaces\",siibra.spaces)\n",
    "bigbrain = siibra.spaces['bigbrain']\n",
    "print(bigbrain)"
   ]
  },
  {
   "cell_type": "markdown",
   "metadata": {},
   "source": [
    "An atlas object provides easy access to a consistent subset of available parcellations, reference spaces and brain regions. It will use reasonable defaults, e.g. return the most recent version of a parcellation if multiple are available."
   ]
  },
  {
   "cell_type": "code",
   "execution_count": null,
   "metadata": {},
   "outputs": [],
   "source": [
    "julichbrain = atlas.get_parcellation('julich')\n",
    "print(type(julichbrain))\n",
    "print(julichbrain)"
   ]
  },
  {
   "cell_type": "markdown",
   "metadata": {},
   "source": [
    "The different objects are typically linked to curated datasets in the [EBRAINS knowledge graph](https://kg.ebrainseu) (KG), using dataset identifiers. They contain various metadata."
   ]
  },
  {
   "cell_type": "code",
   "execution_count": null,
   "metadata": {},
   "outputs": [],
   "source": [
    "print(julichbrain.name)\n",
    "print(julichbrain.id)\n",
    "print()\n",
    "print(julichbrain.description)\n",
    "print()\n",
    "for p in julichbrain.publications:\n",
    "    print(p['citation'])"
   ]
  },
  {
   "cell_type": "markdown",
   "metadata": {},
   "source": [
    "`siibra` also represents brain regions as semantic objects using the specific class `Region`."
   ]
  },
  {
   "cell_type": "code",
   "execution_count": null,
   "metadata": {},
   "outputs": [],
   "source": [
    "v1 = atlas.get_region(\"v1\")\n",
    "print(type(v1))\n",
    "print(v1)"
   ]
  },
  {
   "cell_type": "markdown",
   "metadata": {},
   "source": [
    "Regions are part of a hierarchical tree. They may thus have parent and child regions:"
   ]
  },
  {
   "cell_type": "code",
   "execution_count": null,
   "metadata": {},
   "outputs": [],
   "source": [
    "print(v1.parent.name)\n",
    "print(v1.children)"
   ]
  },
  {
   "cell_type": "markdown",
   "metadata": {},
   "source": [
    "In fact, each region represents its own subtree. This can be easily visualized by printing its full representation:"
   ]
  },
  {
   "cell_type": "code",
   "execution_count": null,
   "metadata": {},
   "outputs": [],
   "source": [
    "v1"
   ]
  },
  {
   "cell_type": "code",
   "execution_count": null,
   "metadata": {},
   "outputs": [],
   "source": [
    "v1.parent"
   ]
  },
  {
   "cell_type": "markdown",
   "metadata": {},
   "source": [
    "## Maps\n",
    "\n",
    "Spaces and parcellations are just semantic objects - they define a concept and provide desriptions. We are typically interested to combine them, i.e. to work with a concrete parcellation map in a particular reference space. Since EBRAINS atlases provide maps of some parcellations in multiple spaces, maps and parcellations are different concepts - maps are spatial objects, while parcellations are pure semantic objects."
   ]
  },
  {
   "cell_type": "code",
   "execution_count": null,
   "metadata": {},
   "outputs": [],
   "source": [
    "jubrain_mpm = atlas.get_map(siibra.spaces['mni152'])\n",
    "print(jubrain_mpm)\n",
    "print(f\"This parcellation map defines {len(jubrain_mpm)} maps.\")"
   ]
  },
  {
   "cell_type": "markdown",
   "metadata": {},
   "source": [
    "`siibra` typically performs lazy loading of data, so that data is only retrieved when requested. As a consequence, in order to access the actual parcellation image, we call `fetch`, or `fetchall` if the parcellation defines multiple maps. The resulting objects are a `nibabel` standard type, and can thus be directly used in many common software libraries. Here we display the maximum probability map of the Julich-Brain probabilistic maps, which comes in separate images for the left and right hemisphere."
   ]
  },
  {
   "cell_type": "code",
   "execution_count": null,
   "metadata": {},
   "outputs": [],
   "source": [
    "from nilearn import plotting\n",
    "for img in  jubrain_mpm.fetchall():\n",
    "    plotting.plot_stat_map(img)"
   ]
  },
  {
   "cell_type": "code",
   "execution_count": null,
   "metadata": {},
   "outputs": [],
   "source": [
    "# Try to display maps of long fiber bundles in mni152 space!\n",
    "bundlemap = atlas.get_map(space='mni152',parcellation='long bundles').fetch()\n",
    "plotting.plot_stat_map(bundlemap)"
   ]
  },
  {
   "cell_type": "markdown",
   "metadata": {},
   "source": [
    "Probabilistic atlases provide a richer continuous representation of each areal map, whicih can be accessed by explicitly selecting the continuous map type `siibra.MapType.CONTINUOUS` when requesting the map."
   ]
  },
  {
   "cell_type": "code",
   "execution_count": null,
   "metadata": {},
   "outputs": [],
   "source": [
    "pmaps = atlas.get_map(space='mni152',\n",
    "                      parcellation='julich 2.9',\n",
    "                      maptype=siibra.MapType.CONTINUOUS)\n",
    "print(pmaps)\n",
    "print(f\"This map defines {len(pmaps)} different maps.\")"
   ]
  },
  {
   "cell_type": "markdown",
   "metadata": {},
   "source": [
    "Of course, maps and label indices of maps do represent brain regions. `siibra`'s map objects keep track of label and map indices appropriately, so we can always access the corresponding region object. This is crucial to avoid confusion between indices and regions, a common error source in data experiments that employ brain atlases.\n",
    "\n",
    "As an example, assume we want to display the probabiliy map of v1 in the left hemisphere. Which one to fetch?"
   ]
  },
  {
   "cell_type": "code",
   "execution_count": null,
   "metadata": {},
   "outputs": [],
   "source": [
    "# Which probability map encodes V1 in the left hemisphere?\n",
    "index = pmaps.decode_region('v1 left')\n",
    "plotting.plot_stat_map(pmaps.fetch(mapindex=120))"
   ]
  },
  {
   "cell_type": "markdown",
   "metadata": {},
   "source": [
    "Vice versa, we can easily find the region of a given map index."
   ]
  },
  {
   "cell_type": "code",
   "execution_count": null,
   "metadata": {},
   "outputs": [],
   "source": [
    "region = pmaps.decode_label(120)\n",
    "print(region)"
   ]
  },
  {
   "cell_type": "markdown",
   "metadata": {},
   "source": [
    "The same works accordingly for the maximum probabily map, where the region is encoded by both the map index (here: the hemisphere) and its color, i.e. label index: "
   ]
  },
  {
   "cell_type": "code",
   "execution_count": null,
   "metadata": {},
   "outputs": [],
   "source": [
    "cytomap.decode_label(mapindex=0,labelindex=10)"
   ]
  },
  {
   "cell_type": "markdown",
   "metadata": {},
   "source": [
    "## Reference templates and high-resolution data\n",
    "\n",
    "Besides brain maps, each reference space also has a data representation - typically an image - which represents the space. Interesting is particularly the BigBrain, which is a microscopic model and too large to download. For such cases, `siibra` allows to fetch high-resolution data at reduced resolutions, or fetching only volumes of interest."
   ]
  },
  {
   "cell_type": "code",
   "execution_count": null,
   "metadata": {},
   "outputs": [],
   "source": [
    "mni152 = atlas.get_template('mni152')\n",
    "plotting.plot_img(mni152.fetch(),cmap='gray')"
   ]
  },
  {
   "cell_type": "code",
   "execution_count": null,
   "metadata": {},
   "outputs": [],
   "source": [
    "bigbrain_space = atlas.get_space('bigbrain')\n",
    "bigbrain = bigbrain_space.get_template()\n",
    "plotting.view_img(bigbrain.fetch(),bg_img=None,cmap='gray')"
   ]
  },
  {
   "cell_type": "code",
   "execution_count": null,
   "metadata": {},
   "outputs": [],
   "source": [
    "minpt = (-3.979, -61.256, 3.906)\n",
    "maxpt = (5.863, -55.356, -2.487)\n",
    "voi = bigbrain_space.get_bounding_box(minpt,maxpt)\n",
    "chunk = bigbrain.fetch(resolution_mm=-1, voi=voi) # -1 means: highest resolution available\n",
    "plotting.view_img(chunk,bg_img=None,cmap='gray')"
   ]
  },
  {
   "cell_type": "markdown",
   "metadata": {},
   "source": [
    "We can reuse this region of interest, to fetch maps of cortical layers and display them with the BigBrain data."
   ]
  },
  {
   "cell_type": "code",
   "execution_count": null,
   "metadata": {},
   "outputs": [],
   "source": [
    "layers = atlas.get_map(\"bigbrain\",\"layers\").fetch(resolution_mm=-1,voi=voi)\n",
    "plotting.view_img(layers,bg_img=chunk,opacity=.1,symmetric_cmap=False)"
   ]
  }
 ],
 "metadata": {
  "kernelspec": {
   "display_name": "Python 3",
   "language": "python",
   "name": "python3"
  },
  "language_info": {
   "codemirror_mode": {
    "name": "ipython",
    "version": 3
   },
   "file_extension": ".py",
   "mimetype": "text/x-python",
   "name": "python",
   "nbconvert_exporter": "python",
   "pygments_lexer": "ipython3",
   "version": "3.9.1"
  }
 },
 "nbformat": 4,
 "nbformat_minor": 4
}
