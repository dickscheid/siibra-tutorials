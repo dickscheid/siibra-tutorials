{
 "cells": [
  {
   "cell_type": "markdown",
   "metadata": {},
   "source": [
    "# Understanding the basic concepts"
   ]
  },
  {
   "cell_type": "code",
   "execution_count": null,
   "metadata": {},
   "outputs": [],
   "source": [
    "import siibra"
   ]
  },
  {
   "cell_type": "markdown",
   "metadata": {},
   "source": [
    "## Spaces, parcellations and regions\n",
    "\n",
    "At its core, `siibra` defines different maps and reference spaces as objects. These can be accessed in the form of predefined entities, which autocomplete in most python editors, or via fuzzy string matching. Let's try a few."
   ]
  },
  {
   "cell_type": "code",
   "execution_count": null,
   "metadata": {},
   "outputs": [],
   "source": [
    "print(\"Spaces:\",[s for s in siibra.spaces])\n",
    "print(\"Parcellations:\",[p for p in siibra.parcellations])"
   ]
  },
  {
   "cell_type": "code",
   "execution_count": null,
   "metadata": {},
   "outputs": [],
   "source": [
    "space = siibra.spaces.BIG_BRAIN\n",
    "space = siibra.spaces['bigbrain'] # this is equivalent\n",
    "\n",
    "parcellation = siibra.parcellations.JULICH_BRAIN_CYTOARCHITECTONIC_MAPS_2_9\n",
    "parcellation = siibra.parcellations['cyto'] # this is equivalent"
   ]
  },
  {
   "cell_type": "markdown",
   "metadata": {},
   "source": [
    "These objects are typically linked to curated datasets in the [EBRAINS knowledge graph](https://kg.ebrainseu) (KG), using dataset identifiers."
   ]
  },
  {
   "cell_type": "code",
   "execution_count": null,
   "metadata": {},
   "outputs": [],
   "source": [
    "parcellation.id, space.id"
   ]
  },
  {
   "cell_type": "code",
   "execution_count": null,
   "metadata": {},
   "outputs": [],
   "source": [
    "print(parcellation.name)\n",
    "print(parcellation.description)"
   ]
  },
  {
   "cell_type": "markdown",
   "metadata": {},
   "source": [
    "`siibra` also represents brain regions as semantic objects using the specific class `Region`. Since brain regions are usually part of a hierarchy, each region represents a tree which can have parent and child nodes. We can search regions from a parcellation using its `find` method. If we are confident that a region exists, we can request a unique object using `decode`, which will raise an Exception if the specification is not unique.  "
   ]
  },
  {
   "cell_type": "code",
   "execution_count": null,
   "metadata": {},
   "outputs": [],
   "source": [
    "for region in siibra.parcellations['cyto'].find_regions('v1'):\n",
    "    print(\"Found\",region.name)\n",
    "\n",
    "print(\"Last region found:\",region.name)\n",
    "print(\"Its parent:\",region.parent.name)\n",
    "print(\"The parent's parent:\",region.parent.parent.name)\n",
    "\n",
    "fp1 = siibra.parcellations['cyto'].decode_region('fp1')"
   ]
  },
  {
   "cell_type": "markdown",
   "metadata": {},
   "source": [
    "## Maps\n",
    "\n",
    "Spaces and parcellations are just semantic objects - they define a concept and provide desriptions. We are typically interested to combine them, i.e. to work with a concrete parcellation map in a particular reference space. Since EBRAINS atlases provide maps of some parcellations in multiple spaces, maps and parcellations are different concepts - maps are spatial objects, while parcellations are pure semantic objects."
   ]
  },
  {
   "cell_type": "code",
   "execution_count": null,
   "metadata": {},
   "outputs": [],
   "source": [
    "cytomap = siibra.parcellations['Julich 2.9'].get_map(siibra.spaces['mni152'])\n",
    "print(cytomap)\n",
    "print(f\"This object defines {len(cytomap)} maps.\")"
   ]
  },
  {
   "cell_type": "markdown",
   "metadata": {},
   "source": [
    "`siibra` typically performs lazy loading of data, so that data is only retrieved when requested. As a consequence, in order to access the actual parcellation image, we call `fetch`, or `fetchall` if the parcellation defines multiple maps. The resulting objects are a `nibabel` standard type, and can thus be directly used in many common software libraries. Here we display the maximum probability map of the Julich-Brain probabilistic maps, which comes in separate images for the left and right hemisphere."
   ]
  },
  {
   "cell_type": "code",
   "execution_count": null,
   "metadata": {},
   "outputs": [],
   "source": [
    "from nilearn import plotting\n",
    "for img in  cytomap.fetchall():\n",
    "    plotting.plot_stat_map(img)"
   ]
  },
  {
   "cell_type": "markdown",
   "metadata": {},
   "source": [
    "Probabilistic atlases provide a richer continuous representation of each areal map, whicih can be accessed by explicitly selecting the continuous map type `siibra.MapType.CONTINUOUS` when requesting the map."
   ]
  },
  {
   "cell_type": "code",
   "execution_count": null,
   "metadata": {},
   "outputs": [],
   "source": [
    "pmaps = siibra.parcellations['julich 2.9'].get_map(siibra.spaces['mni152'],siibra.MapType.CONTINUOUS)\n",
    "print(pmaps)\n",
    "print(f\"This map defines {len(pmaps)} different maps.\")"
   ]
  },
  {
   "cell_type": "markdown",
   "metadata": {},
   "source": [
    "Of course, maps and label indices of maps do represent brain regions. `siibra`'s map objects keep track of label and map indices appropriately, so we can always access the corresponding region object. This is crucial to avoid confusion between indices and regions, a common error source in data experiments that employ brain atlases.\n",
    "\n",
    "As an example, assume we want to display the probabiliy map of v1 in the left hemisphere. Which one to fetch?"
   ]
  },
  {
   "cell_type": "code",
   "execution_count": null,
   "metadata": {},
   "outputs": [],
   "source": [
    "# Which probability map encodes V1 in the left hemisphere?\n",
    "index = pmaps.decode_region('v1 left')[0].map\n",
    "from nilearn import plotting\n",
    "plotting.plot_stat_map(pmaps.fetch(mapindex=index))"
   ]
  },
  {
   "cell_type": "markdown",
   "metadata": {},
   "source": [
    "Vice versa, we can easily find the region of a given map index."
   ]
  },
  {
   "cell_type": "code",
   "execution_count": null,
   "metadata": {},
   "outputs": [],
   "source": [
    "region = pmaps.decode_label(120)\n",
    "print(region)"
   ]
  },
  {
   "cell_type": "markdown",
   "metadata": {},
   "source": [
    "The same works accordingly for the maximum probabily map, where the region is encoded by both the map index (here: the hemisphere) and its color, i.e. label index: "
   ]
  },
  {
   "cell_type": "code",
   "execution_count": null,
   "metadata": {},
   "outputs": [],
   "source": [
    "cytomap.decode_label(mapindex=0,labelindex=10)"
   ]
  },
  {
   "cell_type": "markdown",
   "metadata": {},
   "source": [
    "## Reference templates and high-resolution data\n",
    "\n",
    "Besides brain maps, each reference space also has a data representation - typically an image - which represents the space. Interesting is particularly the BigBrain, which is a microscopic model and too large to download. For such cases, `siibra` allows to fetch high-resolution data at reduced resolutions, or fetching only volumes of interest."
   ]
  },
  {
   "cell_type": "code",
   "execution_count": null,
   "metadata": {},
   "outputs": [],
   "source": [
    "mni152 = siibra.spaces['mni152'].get_template()\n",
    "plotting.plot_img(mni152.fetch(),cmap='gray')"
   ]
  },
  {
   "cell_type": "code",
   "execution_count": null,
   "metadata": {},
   "outputs": [],
   "source": [
    "bigbrain = siibra.spaces['bigbrain'].get_template()\n",
    "plotting.view_img(bigbrain.fetch(),bg_img=None,cmap='gray')"
   ]
  },
  {
   "cell_type": "code",
   "execution_count": null,
   "metadata": {},
   "outputs": [],
   "source": [
    "minpt = (-3.979, -61.256, 3.906)\n",
    "maxpt = (5.863, -55.356, -2.487)\n",
    "bb = siibra.spaces['bigbrain']\n",
    "voi = siibra.spaces['bigbrain'].get_voi(minpt,maxpt)\n",
    "plotting.view_img(bigbrain.fetch(resolution_mm=0.08, voi=voi),bg_img=None,cmap='gray')"
   ]
  },
  {
   "cell_type": "markdown",
   "metadata": {},
   "source": [
    "# Authenticating with EBRAINS knowledge graph\n",
    "\n",
    "We can often fetch more information on an object from the KG. To fetch data from the KG, you need to pass an authentication token to siibra which you can get from the [authorization endpoint](https://nexus-iam.humanbrainproject.org/v0/oauth2/authorize). To generate such tokens, you need to \n",
    "\n",
    "1. be registered to EBRAINS (as described [here](https://ebrains.eu/register)), and \n",
    "2. enable API access for your account (as described [here](https://kg.humanbrainproject.eu/develop.html))."
   ]
  },
  {
   "cell_type": "code",
   "execution_count": null,
   "metadata": {},
   "outputs": [],
   "source": [
    "token = input(\"Enter your token here, then press 'Enter': \")\n",
    "siibra.set_ebrains_token(token)"
   ]
  },
  {
   "cell_type": "code",
   "execution_count": null,
   "metadata": {},
   "outputs": [],
   "source": [
    "atlas = siibra.atlases.MULTILEVEL_HUMAN_ATLAS"
   ]
  },
  {
   "cell_type": "code",
   "execution_count": null,
   "metadata": {},
   "outputs": [],
   "source": [
    "atlas.select_region('44')"
   ]
  },
  {
   "cell_type": "code",
   "execution_count": null,
   "metadata": {},
   "outputs": [],
   "source": [
    "features = atlas.get_features(siibra.modalities.CorticalCellDistribution)"
   ]
  }
 ],
 "metadata": {
  "kernelspec": {
   "display_name": "Python 3",
   "language": "python",
   "name": "python3"
  },
  "language_info": {
   "codemirror_mode": {
    "name": "ipython",
    "version": 3
   },
   "file_extension": ".py",
   "mimetype": "text/x-python",
   "name": "python",
   "nbconvert_exporter": "python",
   "pygments_lexer": "ipython3",
   "version": "3.9.1"
  }
 },
 "nbformat": 4,
 "nbformat_minor": 4
}
