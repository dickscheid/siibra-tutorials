{
 "cells": [
  {
   "cell_type": "markdown",
   "metadata": {},
   "source": [
    "# Building a book of the Julich-Brain probabilistic cytoarchitectonic atlas"
   ]
  },
  {
   "cell_type": "code",
   "execution_count": null,
   "metadata": {},
   "outputs": [],
   "source": [
    "import siibra\n",
    "from nilearn import plotting\n",
    "from anytree import Node, RenderTree, ContRoundStyle"
   ]
  },
  {
   "cell_type": "code",
   "execution_count": null,
   "metadata": {},
   "outputs": [],
   "source": [
    "atlas = siibra.atlases['human']"
   ]
  },
  {
   "cell_type": "markdown",
   "metadata": {},
   "source": [
    "We start the book with a print of a tree of mapped regions"
   ]
  },
  {
   "cell_type": "code",
   "execution_count": null,
   "metadata": {},
   "outputs": [],
   "source": [
    "jubrain = atlas.get_parcellation('julich 2.9')\n",
    "r = atlas.get_region('123 left')"
   ]
  },
  {
   "cell_type": "code",
   "execution_count": null,
   "metadata": {},
   "outputs": [],
   "source": [
    "def build_path(regions,parent=None):\n",
    "    if len(regions)==0:\n",
    "        return\n",
    "    if len(regions)>0:\n",
    "        result = Node(regions[0].name, parent=parent)\n",
    "    if len(regions)>1:\n",
    "        build_path(regions[1:], parent=result)\n",
    "    return result"
   ]
  },
  {
   "cell_type": "code",
   "execution_count": null,
   "metadata": {},
   "outputs": [],
   "source": [
    "siibra.set_ebrains_token(\"eyJhbGciOiJSUzI1NiIsInR5cCIgOiAiSldUIiwia2lkIiA6ICJfNkZVSHFaSDNIRmVhS0pEZDhXcUx6LWFlZ3kzYXFodVNJZ1RXaTA1U2k0In0.eyJleHAiOjE2MzA5MTI5NTksImlhdCI6MTYzMDkxMTE1OSwiYXV0aF90aW1lIjoxNjMwOTExMTU4LCJqdGkiOiJlNjI3NzViNS03YTBmLTQ1MTgtYmU0MS1mMDcyYjg3ZWQ3NzUiLCJpc3MiOiJodHRwczovL2lhbS5lYnJhaW5zLmV1L2F1dGgvcmVhbG1zL2hicCIsImF1ZCI6WyJyZWFsbS1tYW5hZ2VtZW50IiwianVweXRlcmh1YiIsInh3aWtpIiwidGVhbSIsImdyb3VwIl0sInN1YiI6IjY1MDM1MWJmLTI0OGUtNGUzYy04MWNjLTQ0MGZmNmQ5ZjQxNCIsInR5cCI6IkJlYXJlciIsImF6cCI6ImtnIiwibm9uY2UiOiJmZTRiNjJkMi1iNGRlLTQ4ZGQtODE4Ny0wYzIxZTY2Mjc4Y2EiLCJzZXNzaW9uX3N0YXRlIjoiY2YzZWM2YzMtNjY5Yy00YmIxLWFkMjgtMDg4ODEwYmE1ZjQ1IiwiYWNyIjoiMSIsInNjb3BlIjoib3BlbmlkIHByb2ZpbGUgcm9sZXMgZW1haWwgdGVhbSIsImVtYWlsX3ZlcmlmaWVkIjp0cnVlLCJnZW5kZXIiOiIwIiwibmFtZSI6IlRpbW8gRGlja3NjaGVpZCIsInByZWZlcnJlZF91c2VybmFtZSI6ImRpY2tzY2hlIiwiZ2l2ZW5fbmFtZSI6IlRpbW8iLCJmYW1pbHlfbmFtZSI6IkRpY2tzY2hlaWQiLCJlbWFpbCI6InQuZGlja3NjaGVpZEBmei1qdWVsaWNoLmRlIn0.wJpLNVsn7DAfimAzCx9NB31P2ArLxa-EM0jBIH5KzognipRvI05nebBBAbNHmnUPNySvYtXsdiKuN_m5sGMH2OO_ZBMFOXRQby_pzborl-9QLLXORVDv_I0ji7KjWHBa7h-8PPpPqO4MSXQB0FZ9wyOaOFnXFpLIXNbFGwgukt7eSv_SwxHIVnONXH_MQ9Ggk0E5PpfBItLI4XCkRnGC_IXxPHBWi12qx8vm98Cij-DKkrAJ8KxTDv243_VBE836s-NasyaQMXFQ-51t_IGnOPekNkz5b2PRBFAZX6d_v8cx_tXEmdxTbJyMIk_i9ofGMDoDUFMfdHaiMCwXSC6aGw\")"
   ]
  },
  {
   "cell_type": "code",
   "execution_count": null,
   "metadata": {},
   "outputs": [],
   "source": [
    "import matplotlib\n",
    "import matplotlib.pyplot as plt\n",
    "matplotlib.use('Agg')\n",
    "\n",
    "for region in {r.parent for r in jubrain if r.is_leaf}:\n",
    "\n",
    "    descriptions = region.descriptions\n",
    "    citations = [p['citation'] for p in region.publications]\n",
    "    pmaps = {}\n",
    "    mpms = {}\n",
    "\n",
    "    for i,child in enumerate(region.children):\n",
    "\n",
    "        # print the probabilistic map\n",
    "        plt.figure()\n",
    "        m = child.get_regional_map(\"mni152\",\"continuous\")\n",
    "        plotting.plot_stat_map(m.fetch(), axes=plt.gca(), display_mode=\"ortho\", colorbar=False)\n",
    "        plt.gca().axis(False)\n",
    "        pmaps[child] = {'file':f\"PMAP_{child.key}.png\", 'url':m.url}\n",
    "        plt.tight_layout()\n",
    "        plt.savefig(pmaps[child]['file'], dpi=150)\n",
    "        \n",
    "        # print the maximum probability map\n",
    "        plt.figure()\n",
    "        m = child.build_mask(\"mni152\",maptype=\"labelled\")\n",
    "        plotting.plot_roi(m, axes=plt.gca(), display_mode=\"ortho\")\n",
    "        plt.gca().axis(False)\n",
    "        mpms[child] = {'file':f\"MPM_{child.key}.png\"}\n",
    "        plt.tight_layout()\n",
    "        plt.savefig(mpms[child]['file'], dpi=150)\n",
    "        \n",
    "        descriptions.extend(child.descriptions)\n",
    "        for key in ['cite','citation']:\n",
    "            citations.extend(\n",
    "                p[key] for p in child.publications \n",
    "                if key in p)    \n",
    "\n",
    "    with open(f\"{region.key}.md\",'w') as f:\n",
    "        \n",
    "        f.write(\"---\\ngeometry: margin=3cm\\n---\\n\\n\")\n",
    "        \n",
    "        f.write(f\"# {region.name}\\n\\n\")\n",
    "        tree = \"\\n\".join(\n",
    "            \"%s%s\" % (pre, node.name)\n",
    "            for pre, _, node in RenderTree(build_path(region.ancestors))\n",
    "        )\n",
    "        f.write(f\"```\\n{tree}\\n```\")\n",
    "        f.write(\"\\n\\n\")\n",
    "\n",
    "        f.write(\"### Probability maps\\n\\n\")\n",
    "        f.write(\" \".join(f'![]({i[\"file\"]}){{ width=\"50%\" }}' \n",
    "                         for i in pmaps.values()))\n",
    "        f.write(\"\\n\")\n",
    "        f.write(\"Download:\\n\\n\")\n",
    "        for r,i in pmaps.items():\n",
    "            f.write(f'- [{r.name}]({i[\"url\"]})\\n')   \n",
    "        f.write(\"\\n\\n\")\n",
    "        \n",
    "        f.write(\"### Maximum probability maps\\n\\n\")\n",
    "        f.write(\" \".join(f'![]({i[\"file\"]}){{ width=\"50%\" }}' \n",
    "                         for i in mpms.values()))\n",
    "        f.write(\"\\n\\n\")\n",
    "        \n",
    "        \n",
    "        f.write(\"### Description\\n\\n\")\n",
    "        descriptions = list(set(descriptions))\n",
    "        f.write(\"\\n\".join(descriptions))\n",
    "        f.write(\"\\n\\n\")\n",
    "        \n",
    "        f.write(\"### Publications\\n\\n\")\n",
    "        citations = list(set(citations))\n",
    "        f.write(\"\\n\".join(citations))\n",
    "        f.write(\"\\n\\n\")\n",
    "        \n",
    "        if len(descriptions)>0:\n",
    "            break\n",
    "            "
   ]
  },
  {
   "cell_type": "code",
   "execution_count": null,
   "metadata": {},
   "outputs": [],
   "source": []
  }
 ],
 "metadata": {
  "kernelspec": {
   "display_name": "Python 3",
   "language": "python",
   "name": "python3"
  },
  "language_info": {
   "codemirror_mode": {
    "name": "ipython",
    "version": 3
   },
   "file_extension": ".py",
   "mimetype": "text/x-python",
   "name": "python",
   "nbconvert_exporter": "python",
   "pygments_lexer": "ipython3",
   "version": "3.9.1"
  }
 },
 "nbformat": 4,
 "nbformat_minor": 2
}
